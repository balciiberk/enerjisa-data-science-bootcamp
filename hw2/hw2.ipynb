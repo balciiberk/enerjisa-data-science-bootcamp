{
 "cells": [
  {
   "cell_type": "markdown",
   "id": "3e2b97ce-3898-4e6c-9912-8a1ffceeed8e",
   "metadata": {},
   "source": [
    "# Soru 1: One hot encoding modelin görmediği veriye nasıl uygulanır?"
   ]
  },
  {
   "cell_type": "markdown",
   "id": "7b2bd76c-76e0-492d-a677-edf79c194c16",
   "metadata": {},
   "source": [
    "Kategorik değişkenlerde:\n",
    "- Scikit-learn'ün OneHotEncoder aracındaki handle_unknown argümanı 'ignore' yapılarak daha önce görmediği bi kategori gördüğünde hata vermek yerine, bütün kolonlara 0 vererek o kolonların hiçbirine ait olmadığını işaretlemiş olur. Bu sayede desteki hatanın önüne geçilmiş olur.<br>\n",
    "<!-- end of the list -->\n",
    "\n",
    "Sayısal değişkenlerde:\n",
    "- Eğer bir regresyon modeli oluşturuluyorsa sayısal değişkenlerde onehot encoding yapmaya gerek olmayabilir. Sadece scaling yapmak yeterlidir.\n",
    "- Eğer bir klasifikasyon modeli oluşturuyorsak bu modele sürekli bir değişken bırakmak modelin başarısız olmasına sebep olabilir. Bu sebeple sürekli değişkenler gruplandırılıp encode edilmelidir. Bu durumda ise ordinal bir değişken elde edildiği için onehot yerine label encoding kullanmak daha doğru bir seçim olabilir."
   ]
  },
  {
   "cell_type": "markdown",
   "id": "bdc0cd4b-6b03-47f0-b31d-04ae7c80175c",
   "metadata": {
    "tags": []
   },
   "source": [
    "# Soru 2: Labelencoding'de ilgili kolon için ölçeklendirme nasıl yapılır? (Verinin doğru etkisiyle sayısal olarak dönüştürülmesi)"
   ]
  },
  {
   "cell_type": "markdown",
   "id": "79c3654d-3c08-4f90-9634-bdc8a3b0654d",
   "metadata": {},
   "source": [
    "- Eğer değişken ordinalse label encoding yapmak, onehot encoding yapmaya göre daha doğru bir seçim olabilir.\n",
    "- Label encoding yaparken dikkat edilmesi gereken temel şey değişken sıralanabilir olduğu için verilen sayıların da değişkenle aynı sırada olmasıdır.\n",
    "- Örneğin: Güzel:3 , Orta:2 , Kötü:1 doğru bir label encoding işlemidir çünkü sıralama doğru şekilde yapılmıştır.\n",
    "- scikit-learn'deki LabelEncoder bu iş için doğru araç değildir çünkü bu sıralamayı kullanıcının yapmasına izin vermeyip otomatik olarak yapmaktadır. Dökümantasyonunda da LabelEncoder'ın sadece y değişkeni için kullanılması gerektiği belirtilmiştir.\n",
    "- X değişkeninde scikit-learn'ün OrdinalEncoder aracı kullanılarak label encoding işlemi yapılabilir.\n",
    "- Eğer klasifikasyon modeli kuruluyorsa ve hedef kolon(y) sayısal değerler değilse onun için scikit-learn'ün LabelEncoder aracı kullanılabilir."
   ]
  },
  {
   "cell_type": "markdown",
   "id": "4568edd2-79f1-446c-9663-fe09678d01b6",
   "metadata": {},
   "source": [
    "# Soru 3: Imbalance datasette train test split yaparken neleri göz önünde bulundurmalıyız?"
   ]
  },
  {
   "cell_type": "markdown",
   "id": "64199b20-1473-4d31-9aae-d6b35cdbc17a",
   "metadata": {},
   "source": [
    "- Imbalance bir datasette bir değişken çok az bulunduğu için şans eseri bu az bulunan değişken büyük oranda train'de veya büyük oranda test'te birikme ihtimali vardır. Bunun olmamasına dikkat edilir.\n",
    "- Bunun olmaması için train_test_split kullanılıyorsa ayrıldıktan y kolonundaki sınıfların oranı ana datasetteki sınıfların oranına yaklaşık eşit mi diye kontrol edilmelidir.\n",
    "- train_test_split yerine Kfold kullanılıyorsa, StratifiedKFold kullanılarak bu dengesizlik önlenebilir."
   ]
  },
  {
   "cell_type": "markdown",
   "id": "f0aabc7a-3950-4b9b-87da-8b7c4e322ec8",
   "metadata": {},
   "source": [
    "# Soru 4: Validation dataseti (modelin görmediği) nasıl oluşturulur ve nasıl predict etmeye hazır hale getirilir?"
   ]
  },
  {
   "cell_type": "markdown",
   "id": "3d8ac141-0cf7-41d2-a6c8-24919b25f236",
   "metadata": {},
   "source": [
    "Temelde dikkat edilmesi gereken şey buradaki verinin model canlıya alındığında gelecek veriye en yakın şekilde seçilmesi ve aynı işlemlerden geçmesidir çünkü validation modelin canlıya alınmasının bir provasıdır. Bunun için dikkat edilmesi gereken bir çok nokta vardır.\n",
    "\n",
    "Oluştururken dikkat edilmesi gerekenler:\n",
    "- Veri zamana bağlı bir veriyse, tarihe göre sıralanıp en son tarihten validation ayrılmalıdır çünkü canlı modelde de eski tarihli verilerle eğitilip güncel veri tahmin edilmeye çalışılacaktır.\n",
    "- Canlı veriye uygulanamayacak bir işlem varsa o işlem uygulanmadan önce ana datasetten ayrılmalıdır.\n",
    "<!-- end of the list -->\n",
    "\n",
    "Düzenlerken dikkat edilmesi gerekenler:\n",
    "- Train datasına uygulanan şeyler validation datasına da uygulanır.\n",
    "- NaN değerler train datasının doldurulduğu yöntemle doldurulur.\n",
    "- Train datasında yapılan gruplandırmalar aynı şekilde yapılır.\n",
    "- Train datasında fit edilip sonra train datasını transform eden scaler ile validation dataseti de transform edilir.(Fit edilmez çünkü canlı modelde gelecek tek tek verilerde fit işlemi yapılamaz ama fit edilmiş scaler ile transform edilebilir)\n",
    "- Train datasında kullanılan encoderlar kullanılarak validation dataseti de encode edilir.(handle_unknown seçeneği ile iki encoder'da da daha önce görülmemiş veri için hata oluşmasına engel olunabilir.)\n",
    "- SMOTE kullanılamaz çünkü over-sampling bir datasete uygulanabilir ama validation'da amacımız model canlıdayken olacağı gibi gelecek tek tek verileri doğru bi şekilde tahminlemek. Tek bir veriye over-sampling yapılamayacağı için SMOTE kullanılmaz."
   ]
  },
  {
   "cell_type": "markdown",
   "id": "80d11e6e-d86a-4108-8a77-aa54aba7ebac",
   "metadata": {},
   "source": [
    "# Soru 5: predict_proba metoduyla oran nasıl hesaplanır ve treshold nasıl değiştirilir?"
   ]
  },
  {
   "cell_type": "markdown",
   "id": "6b0f3e9b-7b98-43b3-8258-40d728e39440",
   "metadata": {},
   "source": [
    "- Aslında classifier'lar da regressor'lar gibi net bir tahminde bulunur fakat bir threshold'a göre sınıflandırır.\n",
    "- Örneğin binary classification'da model 0 ile 1 arasında bir sonuç çıkarır.\n",
    "- Standart olarak bu sayı 0.5'in altındaysa 0, üstündeyse 1 sonucunu verir.\n",
    "- Bu sınır(threshold) 0.5'ten farklı değerlerle değiştirilebilir.\n",
    "- Sayının 0 veya 1'e yuvarlanmış halini değil direkt olasılığını görmek için predict yerine predict_proba metodu aynı şekilde çağırılabilir.\n",
    "- Bu sayı ile bir threshold belirleyip o threshold'un üstündekileri 1 altındakilerini 0 olarak girersek aslında threshold'u değiştirmiş oluruz."
   ]
  },
  {
   "cell_type": "markdown",
   "id": "a94ab92d-f871-4e04-a98b-f30dffe6228a",
   "metadata": {},
   "source": [
    "# Soru 6: Fraud case'i üzerinde train&test&validation split, encoding, scaling,modelleme çalışmaları Python'da yapılarak, modelin görmediği dataset üzerinde başarılı sonuç alacak bir model örneği yapılmalı."
   ]
  },
  {
   "cell_type": "code",
   "execution_count": 1,
   "id": "34d04e5f-cbe7-4db7-9e1b-63ac1261c9b3",
   "metadata": {
    "tags": []
   },
   "outputs": [],
   "source": [
    "import pandas as pd\n",
    "import numpy as np\n",
    "import datetime as dt\n",
    "\n",
    "#for quick viz\n",
    "import matplotlib.pyplot as plt\n",
    "import seaborn as sns\n",
    "\n",
    "#ml\n",
    "from sklearn.decomposition import PCA\n",
    "from sklearn.preprocessing import OrdinalEncoder, OneHotEncoder, StandardScaler, MinMaxScaler\n",
    "from sklearn.model_selection import train_test_split, GridSearchCV, RandomizedSearchCV, StratifiedKFold\n",
    "from sklearn.linear_model import LogisticRegression\n",
    "from sklearn.metrics import classification_report, confusion_matrix, recall_score, f1_score, auc\n",
    "from sklearn.tree import DecisionTreeClassifier\n",
    "from sklearn.svm import SVC\n",
    "from sklearn.neighbors import KNeighborsClassifier\n",
    "\n",
    "from imblearn.over_sampling import SMOTE\n",
    "from imblearn.under_sampling import RandomUnderSampler\n",
    "from imblearn.pipeline import Pipeline\n",
    "from sklearn.ensemble import RandomForestClassifier, GradientBoostingClassifier\n",
    "import random"
   ]
  },
  {
   "cell_type": "markdown",
   "id": "d4258455-54fa-4f32-ac6e-b38409fd53d4",
   "metadata": {},
   "source": [
    "# Data Cleaning\n",
    "- Bir alttaki düzenlemeler model canlıya alındığında, canlı gelen veriye doğrudan çok kolay bir şekilde yapılabilecek düzenlemeler olduğu için şuanda validation'ı ayırmadan yapmak bir sorun çıkarmayacaktır."
   ]
  },
  {
   "cell_type": "code",
   "execution_count": 2,
   "id": "ea4ecfd0-d887-4be8-bc69-3c91d1c51ac7",
   "metadata": {},
   "outputs": [
    {
     "name": "stderr",
     "output_type": "stream",
     "text": [
      "/tmp/ipykernel_11753/4004270964.py:18: FutureWarning: The default value of regex will change from True to False in a future version.\n",
      "  df['umbrella_limit'] = df['umbrella_limit'].str.replace(umb, 'other')\n"
     ]
    }
   ],
   "source": [
    "df = pd.read_csv('auto_insurance_csv.csv')\n",
    "df = df.drop(['_c39','Unnamed: 0'], axis = 1)\n",
    "df['umbrella_limit'] = df.umbrella_limit.fillna(\"9999\")\n",
    "df['police_report_available'] = df.police_report_available.fillna(\"MISSING\")\n",
    "df['policy_csl'] = df.policy_csl.fillna(\"MISSING\")\n",
    "df['policy_bind_date'] = pd.to_datetime(df['policy_bind_date'])\n",
    "df['incident_date'] = pd.to_datetime(df['incident_date'])\n",
    "df['claim_day_of_policy'] = (df.incident_date -  df.policy_bind_date).dt.days\n",
    "df['location_check'] = np.nan\n",
    "df['location_check'] = np.where(df['policy_state'] == df['incident_state'], True, False)\n",
    "df['fraud_reported'] = df['fraud_reported'].str.replace('Y', '1')\n",
    "df['fraud_reported'] = df['fraud_reported'].str.replace('N', '0')\n",
    "df['fraud_reported'] = df['fraud_reported'].astype(int)\n",
    "df['umbrella_limit'] = df.umbrella_limit.astype(str)\n",
    "umbrealla = df['umbrella_limit'].unique()\n",
    "for umb in umbrealla:\n",
    "    if (umb != '0.0') & (umb != '9999'):\n",
    "        df['umbrella_limit'] = df['umbrella_limit'].str.replace(umb, 'other')\n",
    "    \n",
    "hobbies = df['insured_hobbies'].unique()\n",
    "for hobby in hobbies:\n",
    "    if (hobby != 'chess') & (hobby != 'cross-fit'):\n",
    "        df['insured_hobbies'] = df['insured_hobbies'].str.replace(hobby, 'other')\n",
    "\n",
    "df['age'] = df.age.fillna(9999)\n",
    "bin_labels_age = ['15-20', '21-25', '26-30', '31-35', '36-40', '41-45', '46-50', '51-55', '56-60', '61-65','9999']\n",
    "bins = [15, 20, 25, 30, 35, 40, 45, 50, 55, 60, 65, 9999]\n",
    "df['age_group'] = pd.cut(df['age'], bins = bins, labels = bin_labels_age, include_lowest = True)\n",
    "\n",
    "bins = [0, 50, 100, 150, 200, 250, 300, 350, 400, 450, 500]\n",
    "bin_labels_months = ['0-50','51-100','101-150','151-200','201-250','251-300','301-350','351-400','401-450','451-500']\n",
    "df['months_as_customer_groups'] = pd.cut(df['months_as_customer'], bins = bins, labels = bin_labels_months, include_lowest= True)\n",
    "\n",
    "bins = list(np.linspace(0,2500, 6, dtype = int))\n",
    "bin_labels_policy_annual = ['very low', 'low', 'medium', 'high', 'very high']\n",
    "df['policy_annual_premium_groups'] = pd.cut(df['policy_annual_premium'], bins = bins, labels=bin_labels_policy_annual)\n",
    "\n",
    "bins = list(np.linspace(0,2000, 5, dtype = int))\n",
    "bin_labels_policy_deductable = ['0-500', '501-1000', '1001-1500', '1501-2000']\n",
    "df['policy_deductable_group'] = pd.cut(df['policy_deductable'], bins = bins, labels = bin_labels_policy_deductable)\n",
    "\n",
    "df = df.drop(['age', 'months_as_customer', 'policy_deductable', 'policy_annual_premium'], axis = 1)\n",
    "required_columns = ['incident_date','policy_state', 'policy_csl', 'umbrella_limit',\n",
    "       'insured_zip', 'insured_sex', 'insured_education_level',\n",
    "       'insured_occupation', 'insured_hobbies', 'insured_relationship',\n",
    "       'capital-gains', 'capital-loss', 'incident_type', 'collision_type',\n",
    "       'incident_severity', 'authorities_contacted', 'incident_state',\n",
    "       'incident_city', 'incident_location', 'incident_hour_of_the_day',\n",
    "       'number_of_vehicles_involved', 'property_damage', 'bodily_injuries',\n",
    "       'witnesses', 'police_report_available', 'total_claim_amount','auto_make',\n",
    "       'auto_model', 'auto_year', 'fraud_reported', 'claim_day_of_policy',\n",
    "       'location_check', 'age_group', 'months_as_customer_groups',\n",
    "       'policy_annual_premium_groups', 'policy_deductable_group']\n",
    "df1 = df[required_columns].copy()"
   ]
  },
  {
   "cell_type": "code",
   "execution_count": 3,
   "id": "ef7cbf6d-4e08-41bf-9c36-5d297e3aad04",
   "metadata": {},
   "outputs": [
    {
     "name": "stdout",
     "output_type": "stream",
     "text": [
      "insured_zip: 995\n",
      "incident_location: 1000\n",
      "total_claim_amount: 763\n",
      "claim_day_of_policy: 953\n"
     ]
    }
   ],
   "source": [
    "for col in df1:\n",
    "    if len(df1[col].unique())>500:\n",
    "        print(f'{col}: {len(df1[col].unique())}')"
   ]
  },
  {
   "cell_type": "code",
   "execution_count": 4,
   "id": "0a505a06-bc72-436f-90ed-dfea75d2c0c3",
   "metadata": {},
   "outputs": [],
   "source": [
    "# total_claim_amount alınan parayı ifade ettiği için bu kadar unique değer olması normal fakat diğerlerinin veride kalması çok da anlamlı değil.\n",
    "df1.drop(['insured_zip', 'incident_location', 'claim_day_of_policy'],axis=1,inplace=True)"
   ]
  },
  {
   "cell_type": "code",
   "execution_count": 5,
   "id": "97bf272d-1ab8-4c74-a950-0a0971743209",
   "metadata": {},
   "outputs": [
    {
     "name": "stdout",
     "output_type": "stream",
     "text": [
      "<class 'pandas.core.frame.DataFrame'>\n",
      "RangeIndex: 1000 entries, 0 to 999\n",
      "Data columns (total 9 columns):\n",
      " #   Column                       Non-Null Count  Dtype\n",
      "---  ------                       --------------  -----\n",
      " 0   capital-gains                1000 non-null   int64\n",
      " 1   capital-loss                 1000 non-null   int64\n",
      " 2   incident_hour_of_the_day     1000 non-null   int64\n",
      " 3   number_of_vehicles_involved  1000 non-null   int64\n",
      " 4   bodily_injuries              1000 non-null   int64\n",
      " 5   witnesses                    1000 non-null   int64\n",
      " 6   total_claim_amount           1000 non-null   int64\n",
      " 7   auto_year                    1000 non-null   int64\n",
      " 8   fraud_reported               1000 non-null   int64\n",
      "dtypes: int64(9)\n",
      "memory usage: 70.4 KB\n"
     ]
    }
   ],
   "source": [
    "df1.select_dtypes(include='int64').info()"
   ]
  },
  {
   "cell_type": "markdown",
   "id": "a605bf52-af89-48e0-89ab-efbe88d955ac",
   "metadata": {},
   "source": [
    "- Bu 9 kolon int halinde olan kolonlar. Klasifikasyon yaparken sürekli olan değişkenleri tutmak doğru değil onun için burada kalan son sürekli değişkenleri de gruplandırmamız gerekli. Sonra da bu gruplara encoding uygulayacağız."
   ]
  },
  {
   "cell_type": "code",
   "execution_count": 6,
   "id": "b36fe31f-31fc-41aa-bce7-c11b10d5c8c3",
   "metadata": {},
   "outputs": [
    {
     "name": "stdout",
     "output_type": "stream",
     "text": [
      "incident_hour_of_the_day: [ 5  8  7 20 19  0 23 21 14 22  9 12 15  6 16  4 10  1 17  3 11 13 18  2]\n",
      "number_of_vehicles_involved: [1 3 4 2]\n",
      "bodily_injuries: [1 0 2]\n",
      "witnesses: [2 0 3 1]\n",
      "auto_year: [2004 2007 2014 2009 2003 2012 2015 1996 2002 2006 2000 2010 1999 2011\n",
      " 2005 2008 1995 2001 1998 1997 2013]\n",
      "fraud_reported: [1 0]\n"
     ]
    }
   ],
   "source": [
    "for col in df1.select_dtypes(include='int64'):\n",
    "    if len(df1[col].unique())<50:\n",
    "        print(f'{col}: {df1[col].unique()}')"
   ]
  },
  {
   "cell_type": "markdown",
   "id": "e3183fad-f298-43ef-938b-0e73a86515a2",
   "metadata": {},
   "source": [
    "- Bu kolonlar auto_year hariç halihazırda label encoding yapılmış gibi bir formattalar, onun için bu kolonlarda bir değişiklik yapmaya gerek yok. auto_year kolonundan ise incident year ile arasındaki farka bakarak kaza sırasında aracın yaşına bakarak hem daha anlamlı bir kolon oluşturmuş oluruz hem de yine tam olmasa da label encoding yapılmışa benzer bir kolon elde etmiş oluruz."
   ]
  },
  {
   "cell_type": "code",
   "execution_count": 7,
   "id": "60605683-177b-4f0d-b764-860d9cdcebff",
   "metadata": {},
   "outputs": [],
   "source": [
    "df1['auto_age'] = df1.apply(lambda x:x.incident_date.year - x.auto_year,axis=1)\n",
    "df1.drop('auto_year', axis=1, inplace=True)"
   ]
  },
  {
   "cell_type": "markdown",
   "id": "14c396e4-2a2e-4884-b98b-02c5a7290dd9",
   "metadata": {},
   "source": [
    "- Kalan son 3 kolonu da grupladığımızda sürekli bir değişkenimiz kalmamış olacak."
   ]
  },
  {
   "cell_type": "code",
   "execution_count": 8,
   "id": "902a30f6-481e-4fd6-b22d-814cc6bb63e9",
   "metadata": {},
   "outputs": [
    {
     "data": {
      "text/plain": [
       "<AxesSubplot:xlabel='total_claim_amount', ylabel='Count'>"
      ]
     },
     "execution_count": 8,
     "metadata": {},
     "output_type": "execute_result"
    },
    {
     "data": {
      "image/png": "[encoded data removed]",
      "text/plain": [
       "<Figure size 1224x360 with 3 Axes>"
      ]
     },
     "metadata": {
      "needs_background": "light"
     },
     "output_type": "display_data"
    }
   ],
   "source": [
    "fig, ax = plt.subplots(1,3, figsize=(17,5))\n",
    "sns.histplot(x='capital-gains', data=df1, ax=ax[0])\n",
    "sns.histplot(x='capital-loss', data=df1, ax=ax[1])\n",
    "sns.histplot(x='total_claim_amount', data=df1, ax=ax[2])"
   ]
  },
  {
   "cell_type": "code",
   "execution_count": 9,
   "id": "44beab5f-3ec1-4409-9973-ef236ec2965d",
   "metadata": {},
   "outputs": [],
   "source": [
    "bins = [0, 10_000, 20_000, 30_000, 40_000, 50_000, 60_000, 70_000, 80_000, 90_000, 1_000_000]\n",
    "bin_labels_capital_gains = ['0-10','10-20','20-30','30-40','40-50','50-60','60-70','70-80','80-90','90+']\n",
    "df1['capital-gains'] = pd.cut(df1['capital-gains'], bins = bins, labels = bin_labels_capital_gains, include_lowest= True)\n",
    "\n",
    "bins = [0, 10_000, 20_000, 30_000, 40_000, 50_000, 60_000, 70_000, 80_000, 90_000, 1_000_000]\n",
    "bin_labels_capital_loss = ['0-10','10-20','20-30','30-40','40-50','50-60','60-70','70-80','80-90','90+']\n",
    "df1['capital-loss'] = pd.cut(df1['capital-loss'].apply(lambda x:-x), bins = bins, labels = bin_labels_capital_loss, include_lowest= True)\n",
    "\n",
    "bins = [0, 10_000, 20_000, 30_000, 40_000, 50_000, 60_000, 70_000, 80_000, 90_000, 100_000, 110_000, 1_000_000]\n",
    "bin_labels_total = ['0-10','10-20','20-30','30-40','40-50','50-60','60-70','70-80','80-90','90-100', '100-110', '110+']\n",
    "df1['total_claim_amount'] = pd.cut(df1['total_claim_amount'], bins = bins, labels = bin_labels_total, include_lowest= True)"
   ]
  },
  {
   "cell_type": "markdown",
   "id": "ebb9f01b-7707-4914-b30b-b71f46b03236",
   "metadata": {},
   "source": [
    "# Splitting Validation\n",
    "- Şu ana kadar uyguladığımız işlemleri hem train test hem de validation üzerinde uyguladık çünkü şuana kadar yaptığımız işlemler model canlıya alındığında gelen veriye kolaylıkla uygulayabileceğimiz işlemler. Şimdi ise validation verisini en güncel verilerdenden seçerek ayıracağız ve geri kalan işlemlere devam edeceğiz."
   ]
  },
  {
   "cell_type": "code",
   "execution_count": 10,
   "id": "fe7dfe50-aff2-4b05-bb9b-309b0d015573",
   "metadata": {},
   "outputs": [],
   "source": [
    "df1_val = df1.sort_values(by='incident_date',ascending=False).head(200)\n",
    "df1 = df1.sort_values(by='incident_date',ascending=False).tail(800)"
   ]
  },
  {
   "cell_type": "code",
   "execution_count": 11,
   "id": "120e5cc6-6173-4c12-80e0-03d87a0cf438",
   "metadata": {},
   "outputs": [],
   "source": [
    "df1_val = df1_val.drop([\"incident_date\"],axis=1)\n",
    "df1 = df1.drop([\"incident_date\"],axis=1).reset_index(drop=True)"
   ]
  },
  {
   "cell_type": "markdown",
   "id": "37d706ce-07b6-46f5-ac84-54f7cbb410c6",
   "metadata": {},
   "source": [
    "# Encoding\n",
    "## Encoding train\n",
    "- Ordinal değişkenlere label encoding yapmak daha iyi sonuç vereceğini düşündüğüm için ve bizim gruplandırdığımız devamlı değişkenlerin hepsi ordinal olduğu için onlara label encoding, geri kalan kolonlara ise one hot encoding yapmaya karar verdim."
   ]
  },
  {
   "cell_type": "code",
   "execution_count": 12,
   "id": "71b2fa67-6044-4944-bb60-ce404aa7f7b8",
   "metadata": {},
   "outputs": [],
   "source": [
    "cat_cols = ['age_group', 'months_as_customer_groups', 'policy_annual_premium_groups', 'location_check', 'policy_deductable_group', 'capital-gains', 'capital-loss', 'total_claim_amount']\n",
    "for col in cat_cols:\n",
    "    df1[col] = df1[col].astype('object')\n",
    "\n",
    "columns_to_encode = df1.select_dtypes(include='object').columns\n",
    "\n",
    "columns_to_ordinal_encode= ['policy_csl', 'age_group', 'months_as_customer_groups', 'policy_annual_premium_groups', 'policy_deductable_group', 'capital-gains', 'capital-loss', 'total_claim_amount']\n",
    "\n",
    "columns_to_onehot_encode = list(set(columns_to_encode) - set(columns_to_ordinal_encode))"
   ]
  },
  {
   "cell_type": "code",
   "execution_count": 13,
   "id": "91bd8b40-cbb9-4ecc-9ccc-2595e2932c31",
   "metadata": {},
   "outputs": [],
   "source": [
    "# Doğru sırada encode edebilmek gruplandırırken oluşturduğumuz bin label'ları kullandım.\n",
    "ordinal = OrdinalEncoder(categories = [['MISSING', '100/300', '250/500', '500/1000'],\n",
    "                          bin_labels_age,\n",
    "                          bin_labels_months,\n",
    "                          bin_labels_policy_annual,\n",
    "                          bin_labels_policy_deductable,\n",
    "                          bin_labels_capital_gains,\n",
    "                          bin_labels_capital_loss,\n",
    "                          bin_labels_total\n",
    "                         ], handle_unknown='use_encoded_value', unknown_value=-1) #Validation'da bilinmeyen bir değer gelirse -1 ile dolduracak\n",
    "df1[columns_to_ordinal_encode] = pd.DataFrame(ordinal.fit_transform(df1[columns_to_ordinal_encode]), columns=columns_to_ordinal_encode)"
   ]
  },
  {
   "cell_type": "code",
   "execution_count": 14,
   "id": "1f1708a3-3fb9-448e-990e-6e95432dbc54",
   "metadata": {},
   "outputs": [],
   "source": [
    "one_hot = OneHotEncoder(handle_unknown='ignore', sparse=False)\n",
    "one_hot_encoded = pd.DataFrame(one_hot.fit_transform(df1[columns_to_onehot_encode]))\n",
    "df_encoded = pd.concat([df1.drop(columns_to_onehot_encode, axis=1),one_hot_encoded],axis=1)"
   ]
  },
  {
   "cell_type": "code",
   "execution_count": 15,
   "id": "cb2bd11d-18f0-40bd-b669-7f4091d91610",
   "metadata": {},
   "outputs": [],
   "source": [
    "y = df_encoded['fraud_reported'].copy()\n",
    "X = df_encoded.drop('fraud_reported', axis=1)"
   ]
  },
  {
   "cell_type": "markdown",
   "id": "1d120f4e-ea16-4f73-9c6f-a5757c091da1",
   "metadata": {},
   "source": [
    "## Encoding validation"
   ]
  },
  {
   "cell_type": "code",
   "execution_count": 16,
   "id": "95215ed9-abea-480d-9979-c6e39b01b824",
   "metadata": {},
   "outputs": [],
   "source": [
    "df1_val.reset_index(drop=True,inplace=True)\n",
    "df1_val[columns_to_ordinal_encode] = pd.DataFrame(ordinal.transform(df1_val[columns_to_ordinal_encode]), columns=columns_to_ordinal_encode)"
   ]
  },
  {
   "cell_type": "code",
   "execution_count": 17,
   "id": "ee7a616e-d7d3-4e23-8f30-9587b2fb6bcf",
   "metadata": {},
   "outputs": [],
   "source": [
    "one_hot_encoded = pd.DataFrame(one_hot.transform(df1_val[columns_to_onehot_encode].values))\n",
    "df_val_encoded = pd.concat([df1_val.drop(columns_to_onehot_encode, axis=1),one_hot_encoded],axis=1)"
   ]
  },
  {
   "cell_type": "code",
   "execution_count": 18,
   "id": "3b87f631-78b0-4a18-8921-4e7afd30741f",
   "metadata": {},
   "outputs": [],
   "source": [
    "y_val = df_val_encoded['fraud_reported'].copy()\n",
    "X_val = df_val_encoded.drop('fraud_reported', axis=1)"
   ]
  },
  {
   "cell_type": "markdown",
   "id": "2e4c4a5e-e14e-4a21-bf2b-62c66c8d332e",
   "metadata": {},
   "source": [
    "# Modeller\n",
    "- Uygulayacağımız pipeline'larda öncelikle SMOTE uygulayıp sonrasında, scale edip son olarak modele sokacağız. Tüm bu süreçler için hyperparameter tuning yapacağız. train-test split yerine kfold kullanarak bir kaç farklı şekilde bölmesini ve denemesini sağlayarak şans faktörünü azaltacağız. Imbalance bir veri seti olduğu için StratifiedKFold kullanacağız.\n",
    "<!-- end of list -->\n",
    "\n",
    "## Random Forest"
   ]
  },
  {
   "cell_type": "code",
   "execution_count": 19,
   "id": "82201f17-3d33-4b73-b62d-4caf515828e9",
   "metadata": {},
   "outputs": [],
   "source": [
    "from imblearn.pipeline import Pipeline\n",
    "\n",
    "smote = SMOTE(random_state=73)\n",
    "scaler = StandardScaler()\n",
    "rfc = RandomForestClassifier(random_state=73)\n",
    "\n",
    "pipe = Pipeline([\n",
    "    ('smote', smote),\n",
    "    ('scaler',scaler),\n",
    "    ('rfc', rfc),\n",
    "])\n",
    "\n",
    "param_grid = {\n",
    "    'smote__sampling_strategy': np.geomspace(0.5,0.8,5),\n",
    "    'rfc__n_estimators': np.linspace(300, 1000,7, dtype='int64'),\n",
    "    'rfc__max_depth': np.linspace(5,25,5,dtype='int64'),\n",
    "    'rfc__min_samples_split': [2,5,10],\n",
    "    'rfc__min_samples_leaf': [1,2,4],\n",
    "}\n",
    "\n",
    "score={\n",
    "    'AUC':'roc_auc', \n",
    "    'RECALL':'recall',\n",
    "}\n",
    "\n",
    "kfold = StratifiedKFold(n_splits=4)\n",
    "\n",
    "grid = RandomizedSearchCV(pipe, param_grid, n_iter=50, cv=kfold, scoring=score, refit='RECALL', return_train_score=True,verbose=1, random_state=73, n_jobs=3)"
   ]
  },
  {
   "cell_type": "code",
   "execution_count": 20,
   "id": "1d271135-ac67-49f6-9b55-077816ff2fec",
   "metadata": {},
   "outputs": [
    {
     "name": "stdout",
     "output_type": "stream",
     "text": [
      "Fitting 4 folds for each of 50 candidates, totalling 200 fits\n"
     ]
    },
    {
     "data": {
      "text/plain": [
       "RandomizedSearchCV(cv=StratifiedKFold(n_splits=4, random_state=None, shuffle=False),\n",
       "                   estimator=Pipeline(steps=[('smote', SMOTE(random_state=73)),\n",
       "                                             ('scaler', StandardScaler()),\n",
       "                                             ('rfc',\n",
       "                                              RandomForestClassifier(random_state=73))]),\n",
       "                   n_iter=50, n_jobs=3,\n",
       "                   param_distributions={'rfc__max_depth': array([ 5, 10, 15, 20, 25]),\n",
       "                                        'rfc__min_samples_leaf': [1, 2, 4],\n",
       "                                        'rfc__min_samples_split': [2, 5, 10],\n",
       "                                        'rfc__n_estimators': array([ 300,  416,  533,  650,  766,  883, 1000]),\n",
       "                                        'smote__sampling_strategy': array([0.5       , 0.56234133, 0.63245553, 0.71131176, 0.8       ])},\n",
       "                   random_state=73, refit='RECALL', return_train_score=True,\n",
       "                   scoring={'AUC': 'roc_auc', 'RECALL': 'recall'}, verbose=1)"
      ]
     },
     "execution_count": 20,
     "metadata": {},
     "output_type": "execute_result"
    }
   ],
   "source": [
    "grid.fit(X,y)"
   ]
  },
  {
   "cell_type": "code",
   "execution_count": 21,
   "id": "34947665-841a-4204-8eb5-cda0d60822cd",
   "metadata": {},
   "outputs": [
    {
     "data": {
      "text/plain": [
       "{'smote__sampling_strategy': 0.8,\n",
       " 'rfc__n_estimators': 883,\n",
       " 'rfc__min_samples_split': 10,\n",
       " 'rfc__min_samples_leaf': 1,\n",
       " 'rfc__max_depth': 15}"
      ]
     },
     "execution_count": 21,
     "metadata": {},
     "output_type": "execute_result"
    }
   ],
   "source": [
    "grid.best_params_"
   ]
  },
  {
   "cell_type": "code",
   "execution_count": 22,
   "id": "92784665-a870-4b69-b623-378ef6d19854",
   "metadata": {},
   "outputs": [
    {
     "name": "stdout",
     "output_type": "stream",
     "text": [
      "              precision    recall  f1-score   support\n",
      "\n",
      "           0       0.93      0.80      0.86       163\n",
      "           1       0.45      0.73      0.56        37\n",
      "\n",
      "    accuracy                           0.79       200\n",
      "   macro avg       0.69      0.76      0.71       200\n",
      "weighted avg       0.84      0.79      0.80       200\n",
      "\n"
     ]
    },
    {
     "data": {
      "text/plain": [
       "<AxesSubplot:>"
      ]
     },
     "execution_count": 22,
     "metadata": {},
     "output_type": "execute_result"
    },
    {
     "data": {
      "image/png": "[encoded data removed]",
      "text/plain": [
       "<Figure size 432x288 with 2 Axes>"
      ]
     },
     "metadata": {
      "needs_background": "light"
     },
     "output_type": "display_data"
    }
   ],
   "source": [
    "preds = grid.predict(X_val)\n",
    "print(classification_report(y_val,preds))\n",
    "sns.heatmap(confusion_matrix(y_val, preds), annot=True)"
   ]
  },
  {
   "cell_type": "markdown",
   "id": "9e86f629-c3c7-49b3-9901-05969d8719a8",
   "metadata": {},
   "source": [
    "## Support Vector Classifier\n",
    "- SVM'de SMOTE kullanmaya gerek yok çünkü algoritmanın içinde halihazırda imbalanced datasetler için bir method var. class_weight argümanı 'balanced' yapıldığında datasetin imbalance'lığına ters oranda ihtimalleri değiştirerek kendi kendine dengelemiş oluyor."
   ]
  },
  {
   "cell_type": "code",
   "execution_count": 23,
   "id": "fb1293ea-ff6c-4d2f-a4df-829bfdae34d2",
   "metadata": {},
   "outputs": [],
   "source": [
    "scaler = StandardScaler()\n",
    "svc = SVC(class_weight='balanced',random_state=73)\n",
    "\n",
    "X_n = scaler.fit_transform(X)\n",
    "X_val_n = scaler.transform(X_val)\n",
    "\n",
    "\n",
    "param_grid2 = {\n",
    "    'C': [0.1, 1, 2, 10],\n",
    "    'gamma': [1, 0.1, 0.01, 0.001],\n",
    "    'kernel': ['linear','rbf']\n",
    "}\n",
    "\n",
    "kfold = StratifiedKFold(n_splits=4)\n",
    "\n",
    "grid2 = RandomizedSearchCV(svc, param_grid2, n_iter=20, cv=kfold, verbose=1, random_state=73, n_jobs=3)"
   ]
  },
  {
   "cell_type": "code",
   "execution_count": 24,
   "id": "6b8b5d52-5a83-4ae6-8da1-46e4ff64f65a",
   "metadata": {},
   "outputs": [
    {
     "name": "stdout",
     "output_type": "stream",
     "text": [
      "Fitting 4 folds for each of 20 candidates, totalling 80 fits\n"
     ]
    },
    {
     "data": {
      "text/plain": [
       "RandomizedSearchCV(cv=StratifiedKFold(n_splits=4, random_state=None, shuffle=False),\n",
       "                   estimator=SVC(class_weight='balanced', random_state=73),\n",
       "                   n_iter=20, n_jobs=3,\n",
       "                   param_distributions={'C': [0.1, 1, 2, 10],\n",
       "                                        'gamma': [1, 0.1, 0.01, 0.001],\n",
       "                                        'kernel': ['linear', 'rbf']},\n",
       "                   random_state=73, verbose=1)"
      ]
     },
     "execution_count": 24,
     "metadata": {},
     "output_type": "execute_result"
    }
   ],
   "source": [
    "grid2.fit(X_n,y)"
   ]
  },
  {
   "cell_type": "code",
   "execution_count": 25,
   "id": "b25dbc77-ce09-49d5-9faa-03fd7c8ff137",
   "metadata": {},
   "outputs": [
    {
     "data": {
      "text/plain": [
       "{'kernel': 'rbf', 'gamma': 0.001, 'C': 2}"
      ]
     },
     "execution_count": 25,
     "metadata": {},
     "output_type": "execute_result"
    }
   ],
   "source": [
    "grid2.best_params_"
   ]
  },
  {
   "cell_type": "code",
   "execution_count": 26,
   "id": "3265ff77-ef0f-4896-a6f9-22e3fc6b7d09",
   "metadata": {},
   "outputs": [
    {
     "name": "stdout",
     "output_type": "stream",
     "text": [
      "              precision    recall  f1-score   support\n",
      "\n",
      "           0       0.95      0.79      0.86       163\n",
      "           1       0.46      0.81      0.59        37\n",
      "\n",
      "    accuracy                           0.79       200\n",
      "   macro avg       0.70      0.80      0.72       200\n",
      "weighted avg       0.86      0.79      0.81       200\n",
      "\n"
     ]
    },
    {
     "data": {
      "text/plain": [
       "<AxesSubplot:>"
      ]
     },
     "execution_count": 26,
     "metadata": {},
     "output_type": "execute_result"
    },
    {
     "data": {
      "image/png": "[encoded data removed]",
      "text/plain": [
       "<Figure size 432x288 with 2 Axes>"
      ]
     },
     "metadata": {
      "needs_background": "light"
     },
     "output_type": "display_data"
    }
   ],
   "source": [
    "preds = grid2.predict(X_val_n)\n",
    "print(classification_report(y_val,preds))\n",
    "sns.heatmap(confusion_matrix(y_val, preds), annot=True)"
   ]
  },
  {
   "cell_type": "markdown",
   "id": "5797f683-8bfb-4421-8932-1785c1b681f2",
   "metadata": {},
   "source": [
    "- Random Forest'a göre daha iyi sonuçlar. Özellikle recall değerlerine bakacak olursak, bu model fraud'ların %81'ini yakalamış. Ayrıca precision'a bakacak olursak da fraud olarak tahmin ettiği verilerin yaklaşık yarısı gerçekten fraud. Bu aslında fraud olup olmadığını inceleyecek uzmanlara fraud sayısının 2 katı kadar dosya gitmesi anlamına geliyor."
   ]
  },
  {
   "cell_type": "markdown",
   "id": "2fe3ca8b-3f94-4fae-90f5-b9a676fcc59d",
   "metadata": {},
   "source": [
    "# Gradient Boosting Classifier"
   ]
  },
  {
   "cell_type": "code",
   "execution_count": 27,
   "id": "e8237dab-3b65-470e-a46f-783004ab2e23",
   "metadata": {},
   "outputs": [],
   "source": [
    "smote = SMOTE(random_state=73)\n",
    "scaler = StandardScaler()\n",
    "gbc = GradientBoostingClassifier()\n",
    "\n",
    "pipe3 = Pipeline([\n",
    "    ('smote', smote),\n",
    "    ('scaler',scaler),\n",
    "    ('gbc', gbc),\n",
    "])\n",
    "\n",
    "param_grid3 = {\n",
    "    'smote__sampling_strategy': np.geomspace(0.5,0.8,5),\n",
    "    'gbc__n_estimators': np.linspace(75, 400,7, dtype='int64'),\n",
    "    'gbc__max_depth': np.linspace(5,20,5,dtype='int64'),\n",
    "    'gbc__subsample': np.linspace(0.5,1,5),\n",
    "}\n",
    "\n",
    "score={\n",
    "    'AUC':'roc_auc', \n",
    "    'RECALL':'recall',\n",
    "}\n",
    "\n",
    "kfold = StratifiedKFold(n_splits=4)\n",
    "\n",
    "grid3 = RandomizedSearchCV(pipe3, param_grid3, n_iter=50, cv=kfold, scoring=score, refit='RECALL', return_train_score=True,verbose=1, random_state=73, n_jobs=3)"
   ]
  },
  {
   "cell_type": "code",
   "execution_count": 28,
   "id": "07fc5d19-1f6c-4401-8a3b-09ef2dcc1582",
   "metadata": {},
   "outputs": [
    {
     "name": "stdout",
     "output_type": "stream",
     "text": [
      "Fitting 4 folds for each of 50 candidates, totalling 200 fits\n"
     ]
    },
    {
     "data": {
      "text/plain": [
       "RandomizedSearchCV(cv=StratifiedKFold(n_splits=4, random_state=None, shuffle=False),\n",
       "                   estimator=Pipeline(steps=[('smote', SMOTE(random_state=73)),\n",
       "                                             ('scaler', StandardScaler()),\n",
       "                                             ('gbc',\n",
       "                                              GradientBoostingClassifier())]),\n",
       "                   n_iter=50, n_jobs=3,\n",
       "                   param_distributions={'gbc__max_depth': array([ 5,  8, 12, 16, 20]),\n",
       "                                        'gbc__n_estimators': array([ 75, 129, 183, 237, 291, 345, 400]),\n",
       "                                        'gbc__subsample': array([0.5  , 0.625, 0.75 , 0.875, 1.   ]),\n",
       "                                        'smote__sampling_strategy': array([0.5       , 0.56234133, 0.63245553, 0.71131176, 0.8       ])},\n",
       "                   random_state=73, refit='RECALL', return_train_score=True,\n",
       "                   scoring={'AUC': 'roc_auc', 'RECALL': 'recall'}, verbose=1)"
      ]
     },
     "execution_count": 28,
     "metadata": {},
     "output_type": "execute_result"
    }
   ],
   "source": [
    "grid3.fit(X_n,y)"
   ]
  },
  {
   "cell_type": "code",
   "execution_count": 29,
   "id": "79f65cda-e744-427f-87f5-0d0b90636ea0",
   "metadata": {},
   "outputs": [
    {
     "data": {
      "text/plain": [
       "{'smote__sampling_strategy': 0.7113117640155692,\n",
       " 'gbc__subsample': 0.5,\n",
       " 'gbc__n_estimators': 75,\n",
       " 'gbc__max_depth': 20}"
      ]
     },
     "execution_count": 29,
     "metadata": {},
     "output_type": "execute_result"
    }
   ],
   "source": [
    "grid3.best_params_"
   ]
  },
  {
   "cell_type": "code",
   "execution_count": 30,
   "id": "c91cd264-7f46-4782-8224-9b7787bee1ac",
   "metadata": {},
   "outputs": [
    {
     "name": "stdout",
     "output_type": "stream",
     "text": [
      "              precision    recall  f1-score   support\n",
      "\n",
      "           0       0.94      0.80      0.86       163\n",
      "           1       0.46      0.76      0.57        37\n",
      "\n",
      "    accuracy                           0.79       200\n",
      "   macro avg       0.70      0.78      0.72       200\n",
      "weighted avg       0.85      0.79      0.81       200\n",
      "\n"
     ]
    },
    {
     "data": {
      "text/plain": [
       "<AxesSubplot:>"
      ]
     },
     "execution_count": 30,
     "metadata": {},
     "output_type": "execute_result"
    },
    {
     "data": {
      "image/png": "[encoded data removed]",
      "text/plain": [
       "<Figure size 432x288 with 2 Axes>"
      ]
     },
     "metadata": {
      "needs_background": "light"
     },
     "output_type": "display_data"
    }
   ],
   "source": [
    "preds = grid3.predict(X_val_n)\n",
    "print(classification_report(y_val,preds))\n",
    "sns.heatmap(confusion_matrix(y_val, preds), annot=True)"
   ]
  },
  {
   "cell_type": "markdown",
   "id": "bf411d5c-645a-48d1-be78-3cfa141351ba",
   "metadata": {},
   "source": [
    "- SVM'ye göre daha kötü sonuçlar.\n",
    "<!-- end of the list -->\n",
    "\n",
    "## Threshold Değiştirme\n",
    "- Bu sefer threshold değerini değiştirerek alacağımız sonucu değerlendireceğimiz için train_test_split kullandıktan sonra train üzerinde smote uygulayıp, testte uygulamayarak farklı thresholdlarda test datasetimizin aldığı sonuçları inceleyeceğiz. Bu şekilde en uygun threshold değerini bulup validation üzerinde deneyeceğiz."
   ]
  },
  {
   "cell_type": "code",
   "execution_count": 31,
   "id": "45a6103b-9e7b-45ab-8af6-b0f9396e827b",
   "metadata": {},
   "outputs": [],
   "source": [
    "X_train, X_test, y_train, y_test = train_test_split(X, y, test_size=0.25, random_state=73)\n",
    "smote = SMOTE(random_state=73)\n",
    "X_train, y_train = smote.fit_resample(X_train,y_train)\n",
    "\n",
    "scaler = StandardScaler()\n",
    "X_train = scaler.fit_transform(X_train)\n",
    "X_test = scaler.transform(X_test)\n",
    "X_val = scaler.transform(X_val)\n",
    "\n",
    "rfc = RandomForestClassifier(n_estimators=750,max_depth=5, random_state=73)\n",
    "rfc.fit(X_train, y_train)\n",
    "\n",
    "thresholds = np.linspace(0.2,0.7,100)\n",
    "results0 = []\n",
    "results1 = []\n",
    "\n",
    "for i in thresholds:\n",
    "    preds = (rfc.predict_proba(X_test)[:,1]>i).astype(int)\n",
    "    results0.append(recall_score(y_test, preds, average=None)[0])\n",
    "    results1.append(recall_score(y_test, preds, average=None)[1])"
   ]
  },
  {
   "cell_type": "code",
   "execution_count": 32,
   "id": "5d8a347a-c9ac-4ae2-b2ef-eb9c3e4ffa8e",
   "metadata": {},
   "outputs": [
    {
     "data": {
      "text/plain": [
       "<AxesSubplot:>"
      ]
     },
     "execution_count": 32,
     "metadata": {},
     "output_type": "execute_result"
    },
    {
     "data": {
      "image/png": "[encoded data removed]",
      "text/plain": [
       "<Figure size 432x288 with 1 Axes>"
      ]
     },
     "metadata": {
      "needs_background": "light"
     },
     "output_type": "display_data"
    }
   ],
   "source": [
    "sns.lineplot(x=thresholds, y=results0, color='red')\n",
    "sns.lineplot(x=thresholds, y=results1, color='blue')"
   ]
  },
  {
   "cell_type": "markdown",
   "id": "df47b4c4-b3df-4f77-982c-04e2eed4abcd",
   "metadata": {},
   "source": [
    "- Grafikte farklı threshold değerlerinde, 0 ve 1 değerleri için recall değerleri görülmektedir. Beklendiği gibi uç threshold değerlerde recall değerlerinden biri 0'a diğeri 1'e yaklaşmaktadır. Bizim aradığımız değerler 0 ve 1'in recall değerlerinin birbirine yakın olduğu optimal durumdur, yani aslında grafikte 0.3-0.55 aralığındaki değerler bizim aradığımız aralıktır. Çok geniş bir aralık çıktığı için modelimizin aslında threshold değişiminden pek etkilenmediği görülmüştür. Yine de o aralığın ortasındaki değer olan 0.4 ile tekrar denemek modeli az da olsa geliştirebilir."
   ]
  },
  {
   "cell_type": "code",
   "execution_count": 33,
   "id": "6cad816f-5a72-4fa8-8120-74ee9153660e",
   "metadata": {},
   "outputs": [
    {
     "name": "stdout",
     "output_type": "stream",
     "text": [
      "              precision    recall  f1-score   support\n",
      "\n",
      "           0       0.95      0.79      0.86       163\n",
      "           1       0.46      0.81      0.59        37\n",
      "\n",
      "    accuracy                           0.79       200\n",
      "   macro avg       0.70      0.80      0.72       200\n",
      "weighted avg       0.86      0.79      0.81       200\n",
      "\n"
     ]
    },
    {
     "data": {
      "text/plain": [
       "<AxesSubplot:>"
      ]
     },
     "execution_count": 33,
     "metadata": {},
     "output_type": "execute_result"
    },
    {
     "data": {
      "image/png": "[encoded data removed]",
      "text/plain": [
       "<Figure size 432x288 with 2 Axes>"
      ]
     },
     "metadata": {
      "needs_background": "light"
     },
     "output_type": "display_data"
    }
   ],
   "source": [
    "preds = (rfc.predict_proba(X_val)[:,1]>0.40).astype(int)\n",
    "print(classification_report(y_val,preds))\n",
    "sns.heatmap(confusion_matrix(y_val, preds), annot=True)"
   ]
  },
  {
   "cell_type": "markdown",
   "id": "b19f1ced-eb7c-4bb0-ac2f-1c226981cf4d",
   "metadata": {},
   "source": [
    "- Ufak bir artışla SVC modelimizle aynı sonuçlara geldi.\n",
    "<!-- end of the list -->\n",
    "\n",
    "## Sonuçlar\n",
    "- Bu modellerin yanı sıra KNN modelini denedim, VotingClassifier kullanarak farklı modelleri bir araya getirerek ensemble bir model oluşturmayı denedim fakat buradaki modellerden daha düşük recall değerleri aldığım için onları çalışmamdan çıkardım.\n",
    "- Sonuç olarak fraud'ları da not fraud'ları da %80 oranla tahminleyebilen bir modele ulaşıldı. Ayrıca bu modellerin fraud diye raporladığı case'lerin yaklaşık olarak yarısı gerçekten fraud. Şirketin isteklerine göre threshold değiştirilerek bu iki değerden biri düşürülürken diğeri arttırılabilir.\n",
    "- Örneğin daha fazla fraud yakalamak için recall değeri artırılarak precision değeri düşürülebilir. Bu sayede daha fazla fraud yakalanmış olur fakat fraud olarak seçilen dosya sayısı daha da artmış olur. Yani fraud olarak gönderilen dosyaların yarısından daha da azı fraud olmuş olur. Bu da daha fazla iş gücü gerektirir.\n",
    "- Veya tam tersi precision arttırılarak, uzmanlara gönderilen dosyaların yarısından daha fazlasının gerçekten fraud olması sağlanabilir. Bu durumda ihtiyaç olan iş gücü azalacaktır fakat bu durumda da modelin yakaladığı fraud oranı azalacaktır.\n",
    "- Bu ikisi arasındaki denge bu modeli kullanacak şirketin politikaları, iş gücü ve istekleri doğrultusunda kurulmalıdır."
   ]
  },
  {
   "cell_type": "code",
   "execution_count": null,
   "id": "0ebfead7-7a0b-4400-8b46-3a0951424dc2",
   "metadata": {},
   "outputs": [],
   "source": []
  }
 ],
 "metadata": {
  "kernelspec": {
   "display_name": "data-env",
   "language": "python",
   "name": "data-env"
  },
  "language_info": {
   "codemirror_mode": {
    "name": "ipython",
    "version": 3
   },
   "file_extension": ".py",
   "mimetype": "text/x-python",
   "name": "python",
   "nbconvert_exporter": "python",
   "pygments_lexer": "ipython3",
   "version": "3.8.10"
  }
 },
 "nbformat": 4,
 "nbformat_minor": 5
}
