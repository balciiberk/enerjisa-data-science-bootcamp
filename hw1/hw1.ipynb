{
 "cells": [
  {
   "cell_type": "markdown",
   "id": "6b0e265a-318b-464b-9a48-c82e046f75b2",
   "metadata": {},
   "source": [
    "# Ödev 1"
   ]
  },
  {
   "cell_type": "markdown",
   "id": "5af19c0d-556a-4058-acbe-530796713c75",
   "metadata": {},
   "source": [
    "## Soru 1"
   ]
  },
  {
   "cell_type": "code",
   "execution_count": 1,
   "id": "f94c2f85-3c86-42d8-9c5e-cdb864b9bb1a",
   "metadata": {},
   "outputs": [],
   "source": [
    "import pandas as pd\n",
    "import numpy as np"
   ]
  },
  {
   "cell_type": "code",
   "execution_count": 2,
   "id": "e97b9716-921e-4a93-a842-ff2be7d3aefe",
   "metadata": {},
   "outputs": [
    {
     "data": {
      "text/html": [
       "<div>\n",
       "<style scoped>\n",
       "    .dataframe tbody tr th:only-of-type {\n",
       "        vertical-align: middle;\n",
       "    }\n",
       "\n",
       "    .dataframe tbody tr th {\n",
       "        vertical-align: top;\n",
       "    }\n",
       "\n",
       "    .dataframe thead tr th {\n",
       "        text-align: left;\n",
       "    }\n",
       "</style>\n",
       "<table border=\"1\" class=\"dataframe\">\n",
       "  <thead>\n",
       "    <tr>\n",
       "      <th>Level of Measurement</th>\n",
       "      <th>nominal</th>\n",
       "      <th>ordinal</th>\n",
       "      <th>interval</th>\n",
       "      <th>ratio</th>\n",
       "    </tr>\n",
       "    <tr>\n",
       "      <th>Column Name</th>\n",
       "      <th>alinan_urun</th>\n",
       "      <th>memnuniyet</th>\n",
       "      <th>satici_yildizi(1-5)</th>\n",
       "      <th>fiyat</th>\n",
       "    </tr>\n",
       "  </thead>\n",
       "  <tbody>\n",
       "    <tr>\n",
       "      <th>0</th>\n",
       "      <td>kazak</td>\n",
       "      <td>cok iyi</td>\n",
       "      <td>4</td>\n",
       "      <td>50</td>\n",
       "    </tr>\n",
       "    <tr>\n",
       "      <th>1</th>\n",
       "      <td>mont</td>\n",
       "      <td>iyi</td>\n",
       "      <td>3</td>\n",
       "      <td>150</td>\n",
       "    </tr>\n",
       "    <tr>\n",
       "      <th>2</th>\n",
       "      <td>kazak</td>\n",
       "      <td>cok iyi</td>\n",
       "      <td>5</td>\n",
       "      <td>70</td>\n",
       "    </tr>\n",
       "    <tr>\n",
       "      <th>3</th>\n",
       "      <td>pantolon</td>\n",
       "      <td>orta</td>\n",
       "      <td>1</td>\n",
       "      <td>100</td>\n",
       "    </tr>\n",
       "    <tr>\n",
       "      <th>4</th>\n",
       "      <td>mont</td>\n",
       "      <td>iyi</td>\n",
       "      <td>4</td>\n",
       "      <td>300</td>\n",
       "    </tr>\n",
       "  </tbody>\n",
       "</table>\n",
       "</div>"
      ],
      "text/plain": [
       "Level of Measurement     nominal    ordinal            interval ratio\n",
       "Column Name          alinan_urun memnuniyet satici_yildizi(1-5) fiyat\n",
       "0                          kazak    cok iyi                   4    50\n",
       "1                           mont        iyi                   3   150\n",
       "2                          kazak    cok iyi                   5    70\n",
       "3                       pantolon       orta                   1   100\n",
       "4                           mont        iyi                   4   300"
      ]
     },
     "execution_count": 2,
     "metadata": {},
     "output_type": "execute_result"
    }
   ],
   "source": [
    "df = pd.DataFrame({\n",
    "    \"alinan_urun\": ['kazak', 'mont', 'kazak', 'pantolon', 'mont'],\n",
    "    \"memnuniyet\": ['cok iyi', 'iyi', 'cok iyi', 'orta', 'iyi'],\n",
    "    \"satici_yildizi(1-5)\": [4,3,5,1,4],\n",
    "    \"fiyat\": [50,150,70,100,300]\n",
    "})\n",
    "\n",
    "df.columns = pd.MultiIndex.from_tuples([('nominal','alinan_urun'), ('ordinal','memnuniyet'), ('interval', 'satici_yildizi(1-5)'), ('ratio', 'fiyat')], names=['Level of Measurement','Column Name'])\n",
    "df"
   ]
  },
  {
   "cell_type": "markdown",
   "id": "15afd6a9-0072-48f8-8c81-4326c5a8a4cd",
   "metadata": {},
   "source": [
    "## Soru 2"
   ]
  },
  {
   "cell_type": "code",
   "execution_count": 3,
   "id": "d9ed5889-39d8-4f79-9bce-89f3200317f9",
   "metadata": {},
   "outputs": [
    {
     "name": "stdout",
     "output_type": "stream",
     "text": [
      "<class 'pandas.core.frame.DataFrame'>\n",
      "RangeIndex: 569 entries, 0 to 568\n",
      "Data columns (total 3 columns):\n",
      " #   Column            Non-Null Count  Dtype  \n",
      "---  ------            --------------  -----  \n",
      " 0   radius_mean       569 non-null    float64\n",
      " 1   area_mean         569 non-null    float64\n",
      " 2   compactness_mean  569 non-null    float64\n",
      "dtypes: float64(3)\n",
      "memory usage: 13.5 KB\n"
     ]
    }
   ],
   "source": [
    "columns = ['radius_mean', 'area_mean', 'compactness_mean']\n",
    "data = pd.read_csv('data.csv', usecols=columns)\n",
    "data.info()"
   ]
  },
  {
   "cell_type": "code",
   "execution_count": 4,
   "id": "3328257f-476f-419c-9096-9faeb7b01862",
   "metadata": {},
   "outputs": [
    {
     "data": {
      "text/html": [
       "<div>\n",
       "<style scoped>\n",
       "    .dataframe tbody tr th:only-of-type {\n",
       "        vertical-align: middle;\n",
       "    }\n",
       "\n",
       "    .dataframe tbody tr th {\n",
       "        vertical-align: top;\n",
       "    }\n",
       "\n",
       "    .dataframe thead th {\n",
       "        text-align: right;\n",
       "    }\n",
       "</style>\n",
       "<table border=\"1\" class=\"dataframe\">\n",
       "  <thead>\n",
       "    <tr style=\"text-align: right;\">\n",
       "      <th></th>\n",
       "      <th>count</th>\n",
       "      <th>mean</th>\n",
       "      <th>std</th>\n",
       "      <th>min</th>\n",
       "      <th>25%</th>\n",
       "      <th>50%</th>\n",
       "      <th>75%</th>\n",
       "      <th>max</th>\n",
       "      <th>outlier_count</th>\n",
       "    </tr>\n",
       "  </thead>\n",
       "  <tbody>\n",
       "    <tr>\n",
       "      <th>radius_mean</th>\n",
       "      <td>569.0</td>\n",
       "      <td>14.127292</td>\n",
       "      <td>3.524049</td>\n",
       "      <td>6.98100</td>\n",
       "      <td>11.70000</td>\n",
       "      <td>13.37000</td>\n",
       "      <td>15.7800</td>\n",
       "      <td>28.1100</td>\n",
       "      <td>14</td>\n",
       "    </tr>\n",
       "    <tr>\n",
       "      <th>area_mean</th>\n",
       "      <td>569.0</td>\n",
       "      <td>654.889104</td>\n",
       "      <td>351.914129</td>\n",
       "      <td>143.50000</td>\n",
       "      <td>420.30000</td>\n",
       "      <td>551.10000</td>\n",
       "      <td>782.7000</td>\n",
       "      <td>2501.0000</td>\n",
       "      <td>25</td>\n",
       "    </tr>\n",
       "    <tr>\n",
       "      <th>compactness_mean</th>\n",
       "      <td>569.0</td>\n",
       "      <td>0.104341</td>\n",
       "      <td>0.052813</td>\n",
       "      <td>0.01938</td>\n",
       "      <td>0.06492</td>\n",
       "      <td>0.09263</td>\n",
       "      <td>0.1304</td>\n",
       "      <td>0.3454</td>\n",
       "      <td>16</td>\n",
       "    </tr>\n",
       "  </tbody>\n",
       "</table>\n",
       "</div>"
      ],
      "text/plain": [
       "                  count        mean         std        min        25%  \\\n",
       "radius_mean       569.0   14.127292    3.524049    6.98100   11.70000   \n",
       "area_mean         569.0  654.889104  351.914129  143.50000  420.30000   \n",
       "compactness_mean  569.0    0.104341    0.052813    0.01938    0.06492   \n",
       "\n",
       "                        50%       75%        max  outlier_count  \n",
       "radius_mean        13.37000   15.7800    28.1100             14  \n",
       "area_mean         551.10000  782.7000  2501.0000             25  \n",
       "compactness_mean    0.09263    0.1304     0.3454             16  "
      ]
     },
     "execution_count": 4,
     "metadata": {},
     "output_type": "execute_result"
    }
   ],
   "source": [
    "description = data.describe().T #T just for better look\n",
    "def outlier_count(x, q1, q3): #Takes a series and quartiles of that series, returns outlier count.\n",
    "    iqr = q3 - q1\n",
    "    return sum(~x.between(q1-iqr * 1.5, q3 + iqr*1.5))\n",
    "    \n",
    "description['outlier_count'] = description.apply(lambda x: outlier_count(data[x.name], x.loc['25%'], x.loc['75%']), axis=1)\n",
    "description"
   ]
  },
  {
   "cell_type": "markdown",
   "id": "005c5fc7-370a-4f98-bda1-96ee1f64cc7f",
   "metadata": {},
   "source": [
    "#### Yorumlar:\n",
    "- Count sayılarından anlaşıldığı üzere eksik veri yok, 3 sütunda da veriler tam.\n",
    "- Mean değeri ve median değeri radius ve compactness için çok yakın, burdan dağılımın daha düzenli olduğunu ve normal dağılıma yakın olma ihtimali olduğu çıkarılabilir. Area'da ise mean ve median değerleri arasındaki farkın yaklaşık %20 civarında olduğu görülmektedir, bu farktan dolayı bu sütunla ilgili işlem yaparken dikkatli olunması gerekebilir.\n",
    "- Standart sapma değerleri ise area ve compactness sütunlarında ortalamanın yarısı kadardır, radius'ta ise ortalamasına göre çok daha düşüktür. Buradan radius'un ortalama etrafında yakın değerlere dağıldığı fakat area ve compactness'ın daha yaygın olduğu anlaşılabilir. Eğer normal dağılmışlarsa radius'un daha sivri bir grafiğe sahip olması beklenir, diğer ikisinin ise daha basık ve yaygın bir grafiğe sahip olması beklenir.\n",
    "- Quartile değerlerine bakacak olursak radius ve compactness'ta median ile lower quartile arasındaki fark ve median ile upper quartile arasındaki fark yaklaşık eşittir, buradan herhangi bir yana yatık olmama ihtimalinin yüksek olduğunu düşünebiliriz. Area sütununda ise lower quartile, upper quartile'a göre median'a çok daha yakındır, buradan area'nın dağılımıyla ilgili bir şüphe daha oluşabilir.\n",
    "- Outlier sayıları radius ve compactness'da toplam verinin yaklaşık %3'ü kadardır, area'da ise yaklaşık %5'i kadardır. Area'da range'in de ortalmasına oranla büyük olmasından dolayı outlier sayısının daha fazla olması da beklenen bir sonuçtu.\n",
    "- Son olarak area'nın ortalamasının yaklaşık olarak radius'un ortalmasının karesinin pi ile çarpımı kadar olması beklenir(dairenin alanından dolayı). Beklendiği gibi yaklaşık öyle çıkmıştır."
   ]
  },
  {
   "cell_type": "markdown",
   "id": "fa9b5333-fb00-4d79-b0d6-1a6dc18e6c5b",
   "metadata": {},
   "source": [
    "## Soru 3"
   ]
  },
  {
   "cell_type": "markdown",
   "id": "e7f21270-b84e-4eb4-a206-fd9fec3d1327",
   "metadata": {},
   "source": [
    "### 3.1.Correlation"
   ]
  },
  {
   "cell_type": "code",
   "execution_count": 5,
   "id": "73776a23-802b-479b-9ad3-f99358fb957a",
   "metadata": {},
   "outputs": [
    {
     "data": {
      "text/html": [
       "<div>\n",
       "<style scoped>\n",
       "    .dataframe tbody tr th:only-of-type {\n",
       "        vertical-align: middle;\n",
       "    }\n",
       "\n",
       "    .dataframe tbody tr th {\n",
       "        vertical-align: top;\n",
       "    }\n",
       "\n",
       "    .dataframe thead th {\n",
       "        text-align: right;\n",
       "    }\n",
       "</style>\n",
       "<table border=\"1\" class=\"dataframe\">\n",
       "  <thead>\n",
       "    <tr style=\"text-align: right;\">\n",
       "      <th></th>\n",
       "      <th>radius_mean</th>\n",
       "      <th>area_mean</th>\n",
       "      <th>compactness_mean</th>\n",
       "    </tr>\n",
       "  </thead>\n",
       "  <tbody>\n",
       "    <tr>\n",
       "      <th>radius_mean</th>\n",
       "      <td>1.000000</td>\n",
       "      <td>0.987357</td>\n",
       "      <td>0.506124</td>\n",
       "    </tr>\n",
       "    <tr>\n",
       "      <th>area_mean</th>\n",
       "      <td>0.987357</td>\n",
       "      <td>1.000000</td>\n",
       "      <td>0.498502</td>\n",
       "    </tr>\n",
       "    <tr>\n",
       "      <th>compactness_mean</th>\n",
       "      <td>0.506124</td>\n",
       "      <td>0.498502</td>\n",
       "      <td>1.000000</td>\n",
       "    </tr>\n",
       "  </tbody>\n",
       "</table>\n",
       "</div>"
      ],
      "text/plain": [
       "                  radius_mean  area_mean  compactness_mean\n",
       "radius_mean          1.000000   0.987357          0.506124\n",
       "area_mean            0.987357   1.000000          0.498502\n",
       "compactness_mean     0.506124   0.498502          1.000000"
      ]
     },
     "execution_count": 5,
     "metadata": {},
     "output_type": "execute_result"
    }
   ],
   "source": [
    "data.corr() #correlation"
   ]
  },
  {
   "cell_type": "markdown",
   "id": "57586bf4-44fc-4a3d-ad1e-bdcb0504b0bf",
   "metadata": {},
   "source": [
    "### 3.2.Covariance"
   ]
  },
  {
   "cell_type": "code",
   "execution_count": 6,
   "id": "8d0f308a-95a6-4042-8b69-c61698607453",
   "metadata": {},
   "outputs": [
    {
     "data": {
      "text/html": [
       "<div>\n",
       "<style scoped>\n",
       "    .dataframe tbody tr th:only-of-type {\n",
       "        vertical-align: middle;\n",
       "    }\n",
       "\n",
       "    .dataframe tbody tr th {\n",
       "        vertical-align: top;\n",
       "    }\n",
       "\n",
       "    .dataframe thead th {\n",
       "        text-align: right;\n",
       "    }\n",
       "</style>\n",
       "<table border=\"1\" class=\"dataframe\">\n",
       "  <thead>\n",
       "    <tr style=\"text-align: right;\">\n",
       "      <th></th>\n",
       "      <th>radius_mean</th>\n",
       "      <th>area_mean</th>\n",
       "      <th>compactness_mean</th>\n",
       "    </tr>\n",
       "  </thead>\n",
       "  <tbody>\n",
       "    <tr>\n",
       "      <th>radius_mean</th>\n",
       "      <td>12.418920</td>\n",
       "      <td>1224.483409</td>\n",
       "      <td>0.094197</td>\n",
       "    </tr>\n",
       "    <tr>\n",
       "      <th>area_mean</th>\n",
       "      <td>1224.483409</td>\n",
       "      <td>123843.554318</td>\n",
       "      <td>9.264931</td>\n",
       "    </tr>\n",
       "    <tr>\n",
       "      <th>compactness_mean</th>\n",
       "      <td>0.094197</td>\n",
       "      <td>9.264931</td>\n",
       "      <td>0.002789</td>\n",
       "    </tr>\n",
       "  </tbody>\n",
       "</table>\n",
       "</div>"
      ],
      "text/plain": [
       "                  radius_mean      area_mean  compactness_mean\n",
       "radius_mean         12.418920    1224.483409          0.094197\n",
       "area_mean         1224.483409  123843.554318          9.264931\n",
       "compactness_mean     0.094197       9.264931          0.002789"
      ]
     },
     "execution_count": 6,
     "metadata": {},
     "output_type": "execute_result"
    }
   ],
   "source": [
    "data.cov() #covariance"
   ]
  },
  {
   "cell_type": "markdown",
   "id": "f77c4f5d-437c-4264-aa22-661450603f9e",
   "metadata": {},
   "source": [
    "### 3.3.Pearson Correlation Coefficient"
   ]
  },
  {
   "cell_type": "code",
   "execution_count": 7,
   "id": "aa05e385-5eab-499a-afa9-b009cb5c029d",
   "metadata": {},
   "outputs": [
    {
     "data": {
      "text/html": [
       "<div>\n",
       "<style scoped>\n",
       "    .dataframe tbody tr th:only-of-type {\n",
       "        vertical-align: middle;\n",
       "    }\n",
       "\n",
       "    .dataframe tbody tr th {\n",
       "        vertical-align: top;\n",
       "    }\n",
       "\n",
       "    .dataframe thead th {\n",
       "        text-align: right;\n",
       "    }\n",
       "</style>\n",
       "<table border=\"1\" class=\"dataframe\">\n",
       "  <thead>\n",
       "    <tr style=\"text-align: right;\">\n",
       "      <th></th>\n",
       "      <th>radius_mean</th>\n",
       "      <th>area_mean</th>\n",
       "      <th>compactness_mean</th>\n",
       "    </tr>\n",
       "  </thead>\n",
       "  <tbody>\n",
       "    <tr>\n",
       "      <th>radius_mean</th>\n",
       "      <td>1.000000</td>\n",
       "      <td>0.987357</td>\n",
       "      <td>0.506124</td>\n",
       "    </tr>\n",
       "    <tr>\n",
       "      <th>area_mean</th>\n",
       "      <td>0.987357</td>\n",
       "      <td>1.000000</td>\n",
       "      <td>0.498502</td>\n",
       "    </tr>\n",
       "    <tr>\n",
       "      <th>compactness_mean</th>\n",
       "      <td>0.506124</td>\n",
       "      <td>0.498502</td>\n",
       "      <td>1.000000</td>\n",
       "    </tr>\n",
       "  </tbody>\n",
       "</table>\n",
       "</div>"
      ],
      "text/plain": [
       "                  radius_mean  area_mean  compactness_mean\n",
       "radius_mean          1.000000   0.987357          0.506124\n",
       "area_mean            0.987357   1.000000          0.498502\n",
       "compactness_mean     0.506124   0.498502          1.000000"
      ]
     },
     "execution_count": 7,
     "metadata": {},
     "output_type": "execute_result"
    }
   ],
   "source": [
    "data.corr(method='pearson') # DataFrame.corr() method uses pearson method defaultly"
   ]
  },
  {
   "cell_type": "markdown",
   "id": "55bdb958-b56f-40a9-800f-5b96205a36f2",
   "metadata": {},
   "source": [
    "### 3.4.Spearman Rank Coefficient"
   ]
  },
  {
   "cell_type": "code",
   "execution_count": 8,
   "id": "6b92d129-7ea2-4fca-af28-92dd7a3227a1",
   "metadata": {},
   "outputs": [
    {
     "data": {
      "text/html": [
       "<div>\n",
       "<style scoped>\n",
       "    .dataframe tbody tr th:only-of-type {\n",
       "        vertical-align: middle;\n",
       "    }\n",
       "\n",
       "    .dataframe tbody tr th {\n",
       "        vertical-align: top;\n",
       "    }\n",
       "\n",
       "    .dataframe thead th {\n",
       "        text-align: right;\n",
       "    }\n",
       "</style>\n",
       "<table border=\"1\" class=\"dataframe\">\n",
       "  <thead>\n",
       "    <tr style=\"text-align: right;\">\n",
       "      <th></th>\n",
       "      <th>radius_mean</th>\n",
       "      <th>area_mean</th>\n",
       "      <th>compactness_mean</th>\n",
       "    </tr>\n",
       "  </thead>\n",
       "  <tbody>\n",
       "    <tr>\n",
       "      <th>radius_mean</th>\n",
       "      <td>1.000000</td>\n",
       "      <td>0.999602</td>\n",
       "      <td>0.497578</td>\n",
       "    </tr>\n",
       "    <tr>\n",
       "      <th>area_mean</th>\n",
       "      <td>0.999602</td>\n",
       "      <td>1.000000</td>\n",
       "      <td>0.488988</td>\n",
       "    </tr>\n",
       "    <tr>\n",
       "      <th>compactness_mean</th>\n",
       "      <td>0.497578</td>\n",
       "      <td>0.488988</td>\n",
       "      <td>1.000000</td>\n",
       "    </tr>\n",
       "  </tbody>\n",
       "</table>\n",
       "</div>"
      ],
      "text/plain": [
       "                  radius_mean  area_mean  compactness_mean\n",
       "radius_mean          1.000000   0.999602          0.497578\n",
       "area_mean            0.999602   1.000000          0.488988\n",
       "compactness_mean     0.497578   0.488988          1.000000"
      ]
     },
     "execution_count": 8,
     "metadata": {},
     "output_type": "execute_result"
    }
   ],
   "source": [
    "data.corr(method='spearman')"
   ]
  },
  {
   "cell_type": "markdown",
   "id": "571fa327-6555-491d-b43c-0fd86ec9309f",
   "metadata": {},
   "source": [
    "### 3.5. Effect Size\n",
    "Effect size veya daha spesifik olarak cohen's d formulü şöyledir:\n",
    "$$ d = \\frac{\\mu_1 - \\mu_2}{s}\\ ; \\qquad s ={\\sqrt {\\frac {(n_{1}-1)s_{1}^{2}+(n_{2}-1)s_{2}^{2}}{n_{1}+n_{2}-2}}} $$\n",
    "Bizim verilerimizde tüm verilerin count'u eşit olduğu için $n_1 = n_2$'dir.\n",
    "$$ n_1 = n_2 = n\\quad \\Rightarrow \\quad s ={\\sqrt {\\frac {(n-1)s_{1}^{2}+(n-1)s_{2}^{2}}{n+n-2}}} = {\\sqrt {\\frac {(n-1)(s_{1}^{2}+s_{2}^{2})}{2(n-1)}}} = {\\sqrt {\\frac {(s_{1}^{2}+s_{2}^{2})}{2}}} $$\n",
    "\n",
    "Formülün bu sadeleşmiş halini kullanabiliriz:\n",
    "$$ s = \\sqrt{\\frac{s_1^2 + s_2^2}{2}} $$"
   ]
  },
  {
   "cell_type": "code",
   "execution_count": 9,
   "id": "afcb36ef-9095-4849-a6d3-1d1251e470aa",
   "metadata": {},
   "outputs": [],
   "source": [
    "def cohen_d(x1,x2):\n",
    "    s = np.sqrt((np.std(x1)**2 + np.std(x2)**2 )/ 2)\n",
    "    return (np.mean(x1) - np.mean(x2))/s"
   ]
  },
  {
   "cell_type": "code",
   "execution_count": 10,
   "id": "ddaf2b51-a015-4847-a76b-672bc502037e",
   "metadata": {},
   "outputs": [
    {
     "data": {
      "text/html": [
       "<div>\n",
       "<style scoped>\n",
       "    .dataframe tbody tr th:only-of-type {\n",
       "        vertical-align: middle;\n",
       "    }\n",
       "\n",
       "    .dataframe tbody tr th {\n",
       "        vertical-align: top;\n",
       "    }\n",
       "\n",
       "    .dataframe thead th {\n",
       "        text-align: right;\n",
       "    }\n",
       "</style>\n",
       "<table border=\"1\" class=\"dataframe\">\n",
       "  <thead>\n",
       "    <tr style=\"text-align: right;\">\n",
       "      <th></th>\n",
       "      <th>radius_mean</th>\n",
       "      <th>area_mean</th>\n",
       "      <th>compactness_mean</th>\n",
       "    </tr>\n",
       "  </thead>\n",
       "  <tbody>\n",
       "    <tr>\n",
       "      <th>radius_mean</th>\n",
       "      <td>0.000000</td>\n",
       "      <td>2.577123</td>\n",
       "      <td>-5.631780</td>\n",
       "    </tr>\n",
       "    <tr>\n",
       "      <th>area_mean</th>\n",
       "      <td>-2.577123</td>\n",
       "      <td>0.000000</td>\n",
       "      <td>-2.633655</td>\n",
       "    </tr>\n",
       "    <tr>\n",
       "      <th>compactness_mean</th>\n",
       "      <td>5.631780</td>\n",
       "      <td>2.633655</td>\n",
       "      <td>0.000000</td>\n",
       "    </tr>\n",
       "  </tbody>\n",
       "</table>\n",
       "</div>"
      ],
      "text/plain": [
       "                  radius_mean  area_mean  compactness_mean\n",
       "radius_mean          0.000000   2.577123         -5.631780\n",
       "area_mean           -2.577123   0.000000         -2.633655\n",
       "compactness_mean     5.631780   2.633655          0.000000"
      ]
     },
     "execution_count": 10,
     "metadata": {},
     "output_type": "execute_result"
    }
   ],
   "source": [
    "effect_sizes = {}\n",
    "for i in data.columns:\n",
    "    l = []\n",
    "    for j in data.columns:\n",
    "        l.append(cohen_d(data[i],data[j]))\n",
    "    effect_sizes[i] = l\n",
    "pd.DataFrame(effect_sizes, index=data.columns)"
   ]
  },
  {
   "cell_type": "markdown",
   "id": "4b99d451-7242-4586-87ac-72fe8557ebe4",
   "metadata": {},
   "source": [
    "## Yorumlar:\n",
    "- Radius ile area arasındaki korelasyon 1'e çok yakın bir değer çıktı. Bu da bu iki değişkenin neredeyse tamamen korele olduğu anlamına gelmektedir. area = $\\pi r^2$ olduğu için ve $\\pi$ sabit bir sayı olduğu için bu iki değerin tamamen korele olması beklenen bir sonuçtu. Bu iki sütun tamamen birbirinin tekrarıdır.\n",
    "- Compactness sütununun ise diğer iki sütunla korelasyonu yaklaşık 0.5 çıkmıştır. Bu değer ise compactness değişkeninin radius ve area ile birlikte değiştiğini fakat ilk örnekteki gibi tamamen birbirinin tekrarı olmadığını göstermektedir. Ayrıca işaretinin pozitif olması da biri artarken diğerinin de arttığını göstermektedir.\n",
    "- Pearson correlation coefficient'in sonucu ilk baştaki korelasyonla tamamen aynı çıkmıştır çünkü pandas kütüphanesindeki corr() metodu default olarak pearson korelasyonunu kullanarak hesaplamaktadır.\n",
    "- Spearman Rank Coefficient değerleri ise pearson'daki sonuçlara çok yakın çıkmıştır. Spearman monotonik ilişkinin bir göstergesi olduğu için ve pearson lineer ilişkinin göstergesi olduğu için ve alan ve yarıçap arasındaki ilişki lineer olmadığı için spearman korelasyonu daha yüksek çıkmıştır fakat aralarında çok da büyük bir fark yoktur.\n",
    "- Effect size ise area ile diğer iki değişken arasında yaklaşık 2.6 çıkması bu iki değişkenin de area'ya çok fazla etkisi olduğunu göstermektedir. Ayrıca compactness ve radius arasındaki cohen's d değeri yaklaşık 5.6 çıkmıştır. Bu ise bu ikilinin birbirine etkisinin çok daha büyük olduğunu göstermektedir. Eğer sadece korelasyonlara baksaydık ve effect size'a bakmasaydık compactness'ın diğer iki değişken üzerinde bu kadar büyük etkisi olduğunu kaçırmış olacaktık. Effect size sayesinde bu üç değişkenin üçünün de birbiri üzerinde çok etkili olduğunu gözlemlemiş olduk.\n",
    "- Son olarak kovaryans da korelasyon sonucuna benzer bir şekilde sonuç verdi. Radius ve area arasında çok yüksek bir kovaryans çıktı. Diğer iki kovaryans değeri ise düşük çıkmamasına karşın radius ve area arasındaki kadar da yüksek çıkmadı. Korelasyon değerleri pozitif çıktığı için kovaryans değerleri de pozitif çıkmıştır ve bu da değişimin üç değişkende de aynı yönde olduğunu göstermektedir."
   ]
  },
  {
   "cell_type": "markdown",
   "id": "73e661e6-c60b-42a8-87ae-5bbf2b9cd6c9",
   "metadata": {},
   "source": [
    "## Soru 4"
   ]
  },
  {
   "cell_type": "markdown",
   "id": "9d5aaf3b-bbc5-4d98-b9aa-731269f3adfe",
   "metadata": {},
   "source": [
    "#### Örnek 1:\n",
    "Bir davranışın bir hastalığa etkisini hesaplamak için kullanılabilir. Mesela sigara içen bir kişinin kanseri olma ihtimalini hesaplamak istersek:<br>\n",
    "$P(A) \\rightarrow $ kanser olma olasılığı<br>\n",
    "$P(B) \\rightarrow$ sigara içme olasılığı<br>\n",
    "$P(B|A) \\rightarrow$ kanser olan birinin sigara içiyor olma olasılığı<br>\n",
    "Bu 3 olasılık, sigara içen bir kişinin kanser olma olasılığına göre çok daha kolay bulunabilecek veya verilerden çok daha kolay hesaplanabilecek olasılıklar olduğu için, bu olasılıklar ve bayes teoremi kullanılarak sigara içen bir kişinin kanser olma ihtimali hesaplanabilir.<br><br>\n",
    "Sigara içen bir kişinin kanser olma olasılığı$ \\rightarrow P(A|B) = \\frac{P(B|A)P(A)}{P(B)}$"
   ]
  },
  {
   "cell_type": "markdown",
   "id": "e6ef6f07-610a-40f3-8726-f772abfbfa07",
   "metadata": {},
   "source": [
    "***\n",
    "#### Örnek 2:\n",
    "Spam filtreleme için kullanılmaktadır. Bir kelimeyi içeren bir mailin spam olma olasılığını hesaplamak için kullanılabilir. Bunun en basit ve doğrudan yolu:<br>\n",
    "$P(A) \\rightarrow $ spam olma olasılığı<br>\n",
    "$P(B) \\rightarrow$ spesifik bir kelimenin bulunma olasılığı<br>\n",
    "$P(B|A) \\rightarrow$ spam olan bir mail'de o spesifik kelimenin bulunma olasılığı<br>\n",
    "Yine aynı şekilde eldeki verilerden bu 3 değeri hesaplamak gayet kolaydır. Bayes teoremini de kullanarak sonuca ulaşılabilir:<br>\n",
    "O kelimenin bulunduğu mail'in spam olma olasılığı: $ \\rightarrow P(A|B) = \\frac{P(B|A)P(A)}{P(B)} $\n"
   ]
  },
  {
   "cell_type": "markdown",
   "id": "766a6dab-d566-4925-8747-3b8f676a3063",
   "metadata": {},
   "source": [
    "***\n",
    "#### Örnek 3:\n",
    "Covid-19 test sonucunun doğru olma ihtimalini hesaplamak için kullanılabilir:<br>\n",
    "$P(A) \\rightarrow $ hasta olma ihtimali<br>\n",
    "$P(B) \\rightarrow$ testin pozitif çıkma ihtimali<br>\n",
    "$P(B|A) \\rightarrow$ gerçekten hasta olduğunda testin pozitif çıkma ihtimali<br>\n",
    "Test pozitif çıktığında gerçekten hasta olma ihtimali: $ \\rightarrow P(A|B) = \\frac{P(B|A)P(A)}{P(B)} $\n"
   ]
  },
  {
   "cell_type": "markdown",
   "id": "8622cc0f-591c-4379-b446-77885345dccd",
   "metadata": {},
   "source": [
    "***\n",
    "#### Örnek 4:\n",
    "Hava durumu tahmini için kullanılabilir. Örneğin gökyüzünde bulut olduğunda yağmur yağma ihtimali hesaplanabilir.<br>\n",
    "$P(A) \\rightarrow $ yağmur yağma ihtimali<br>\n",
    "$P(B) \\rightarrow$ gökyüzünde bulut olma ihtimali<br>\n",
    "$P(B|A) \\rightarrow$ yağmur yağdığında gökyüzünde bulut olma ihtimali(her zaman olacağı için 1'e eşittir)<br>\n",
    "Gökyüzünde bulut olduğunda yağmur yağma ihtimali: $ \\rightarrow P(A|B) = \\frac{P(A)}{P(B)} $"
   ]
  },
  {
   "cell_type": "markdown",
   "id": "e33194f1-0831-4ec1-9e50-f81d2db96fd7",
   "metadata": {},
   "source": [
    "***\n",
    "#### Örnek 5:\n",
    "Gaussian Naive Bayes, Multinomial Naive Bayes ve Bernoulli Naive Bayes; Bayes teoremini kullanarak oluşturulmuş algoritmalardır. Bir çok modelde sıklıkla kullanılan bu modeller sınıflandırma algoritmalarıdır. Bu algoritmanın temelinde Bayes teoreminin yanı sıra masum(naive) bir kabul kullanılmıştır. Bu 'masum' kabul bütün parametrelerin birbirinden istatistiksel olarak bağımsız olduğu ve birbirini etkilemediği kabuludür."
   ]
  },
  {
   "cell_type": "markdown",
   "id": "be683342-6f57-48b9-b496-b61ac8212d0a",
   "metadata": {},
   "source": [
    "## Soru 5"
   ]
  },
  {
   "cell_type": "markdown",
   "id": "d852c0ff-0155-4ac6-a114-b296886b0382",
   "metadata": {},
   "source": [
    "-|Poisson| Normal | Gamma| Weilbull | Logaritmik \n",
    ":---:|:---:|:---:|:---:|:---:|:---:|\n",
    "PDF:|-|$${f(x)}=\\frac{1}{\\sigma{\\sqrt{2\\pi}}} e^{-\\frac{1}{2}\\left(\\frac{x-\\mu }{\\sigma}\\right)^{2}} $$|$$ {f(x)=}\\frac{1}{\\Gamma (k)\\theta^k}x^{k-1}e^{-\\frac{x}{\\theta}}$$|$${f(x)=}{\\begin{cases}{\\frac {k}{\\lambda }}\\left({\\frac {x}{\\lambda }}\\right)^{k-1}e^{-(x/\\lambda )^{k}} & x\\geq 0\\\\0 & x<0\\end{cases}}$$|-\n",
    "PMF:|$$f(x)=\\frac{\\lambda^{k}e^{-\\lambda }}{k!}$$|-|-|-|$$f(x)={\\frac{-1}{\\ln(1-p)}}{\\frac {p^{k}}{k}}$$\n",
    "Ayrık/Devamlı:|Ayrık|Devamlı|Devamlı|Devamlı|Ayrık\n",
    "Özel Durumlar:|${\\lambda}$=ortalama=varyans|$\\mu$=ortalama=medyan=mod|iki formu var(k$\\lambda$ ve $\\alpha\\beta$)|x<0 durumunda olasılık her zaman 0|mod =1\n",
    "Kullanım Alanları:|Çok fazla etkisi bulunan ama gerçekleşme olasılığı düşük olaylarda kullanışlıdır|'Düzgün' dağılan ve günlük hayatta karşımıza çıkan bir çok alanda kullanılır|Bekleme sürelerinin dağılımı için sıklıkla kullanılır.|Az gerçekleşen ve ekstrem olaylar için sıklıkla kullanılır.|Belirli bir sürede gerçekleşen bir olayın sayısı gibi dağılımlarda kullanılabilir\n",
    "Örnek:|Radyoaktif bir maddenin alfa parçacığı yayması|boy,kilo,IQ vb.(Günlük hayattan bir çok dağılım)|Bir ürünün ömrünü test ederken oluşan dağılım, kanser hastalarının yaş dağılımı|Başarısızlık analizi,ani yüksek voltaj oluşumları,güvenilirlik testleri|Belirli bir sürede bir müşterinin aldığı ürün sayısı, belirli bir sürede ışığın etrafında toplanan farklı böcek türlerinin sayısı\n",
    "Notlar:|Binom dağılımda deneme sayısı sonsuza, gerçekleşme olasılığı 0'a yaklaşırsa Poisson dağılıma yakınsar.|- Ortalamadan sırayla 1,2 ve 3 sigma uzaklaşıldığında toplam dağılımın %68, %95 ve %99.7'si kapsanmış olur. - Bu dağılımlar içerisinde simetrik olan tek dağılımdır.|||Log-normal dağılımla aynı şey değildir."
   ]
  },
  {
   "cell_type": "markdown",
   "id": "7e96de2e-2e82-4b43-ac8c-1a5c260b8dca",
   "metadata": {},
   "source": [
    "Not: Devamlı dağılım fonksiyonlarının probability distribution function(PDF)'ı olur, ayrık dağılım fonksiyonlarının probability mass function(PMF)'ı olur."
   ]
  },
  {
   "cell_type": "markdown",
   "id": "a193d134-062a-4ea6-83fc-1e5d4ad178cf",
   "metadata": {},
   "source": [
    "## Grafikler(PDF/PMF):\n",
    "<h3>Poisson:</h3><br>\n",
    "<img src=\"https://upload.wikimedia.org/wikipedia/commons/1/16/Poisson_pmf.svg\" width=500px style=\"background-color:white;\"><br>\n",
    "<h3>Normal:</h3><br>\n",
    "<img src=\"https://upload.wikimedia.org/wikipedia/commons/7/74/Normal_Distribution_PDF.svg\" width=500px style=\"background-color:white;\"><br>\n",
    "<h3>Gamma:</h3><br>\n",
    "<img src=\"https://upload.wikimedia.org/wikipedia/commons/e/e6/Gamma_distribution_pdf.svg\" width=500px style=\"background-color:white;\"><br>\n",
    "<h3>Weibull:</h3><br>\n",
    "<img src=\"https://upload.wikimedia.org/wikipedia/commons/5/58/Weibull_PDF.svg\" width=500px style=\"background-color:white;\"><br>\n",
    "<h3>Logaritmik:</h3><br>\n",
    "<img src=\"https://upload.wikimedia.org/wikipedia/commons/2/20/Logarithmicpmf.svg\" width=500px style=\"background-color:white;\"><br>\n",
    "</h3>"
   ]
  },
  {
   "cell_type": "markdown",
   "id": "695eea00-c52f-4fd5-8bc6-09f33627d8b4",
   "metadata": {},
   "source": [
    "# Kaynaklar:\n",
    "[Effect Size(Wikipedia)](https://en.wikipedia.org/wiki/Effect_size#Cohen's_d)<br>\n",
    "[Poisson Distribution(Wikipedia)](https://en.wikipedia.org/wiki/Poisson_distribution)<br>\n",
    "[Normal Distribution(Wikipedia)](https://en.wikipedia.org/wiki/Normal_distribution)<br>\n",
    "[Gamma Distribution(Wikipedia)](https://en.wikipedia.org/wiki/Gamma_distribution)<br>\n",
    "[Weibull Distribution(Wikipedia)](https://en.wikipedia.org/wiki/Weibull_distribution)<br>\n",
    "[Logarithmic Distribution(Wikipedia)](https://en.wikipedia.org/wiki/Logarithmic_distribution)<br>"
   ]
  }
 ],
 "metadata": {
  "kernelspec": {
   "display_name": "data-env",
   "language": "python",
   "name": "data-env"
  },
  "language_info": {
   "codemirror_mode": {
    "name": "ipython",
    "version": 3
   },
   "file_extension": ".py",
   "mimetype": "text/x-python",
   "name": "python",
   "nbconvert_exporter": "python",
   "pygments_lexer": "ipython3",
   "version": "3.8.10"
  }
 },
 "nbformat": 4,
 "nbformat_minor": 5
}
